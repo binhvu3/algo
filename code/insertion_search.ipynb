{
 "cells": [
  {
   "cell_type": "code",
   "execution_count": 1,
   "metadata": {
    "collapsed": true,
    "ExecuteTime": {
     "end_time": "2023-08-08T23:37:35.213378046Z",
     "start_time": "2023-08-08T23:37:35.133020793Z"
    }
   },
   "outputs": [],
   "source": [
    "import time\n",
    "import generator"
   ]
  },
  {
   "cell_type": "markdown",
   "source": [
    "Randomly generate a matrix of 0/1"
   ],
   "metadata": {
    "collapsed": false
   }
  },
  {
   "cell_type": "code",
   "execution_count": 2,
   "outputs": [
    {
     "name": "stdout",
     "output_type": "stream",
     "text": [
      "[[0 0 0 0 0]\n",
      " [1 0 1 1 0]\n",
      " [0 0 1 1 0]\n",
      " [1 0 0 0 1]\n",
      " [1 1 0 0 0]]\n"
     ]
    }
   ],
   "source": [
    "start = time.time()\n",
    "a1 = generator.example(5,5)"
   ],
   "metadata": {
    "collapsed": false,
    "ExecuteTime": {
     "end_time": "2023-08-08T23:37:35.433584318Z",
     "start_time": "2023-08-08T23:37:35.433034253Z"
    }
   }
  },
  {
   "cell_type": "code",
   "execution_count": null,
   "outputs": [],
   "source": [],
   "metadata": {
    "collapsed": false
   }
  }
 ],
 "metadata": {
  "kernelspec": {
   "display_name": "Python 3",
   "language": "python",
   "name": "python3"
  },
  "language_info": {
   "codemirror_mode": {
    "name": "ipython",
    "version": 2
   },
   "file_extension": ".py",
   "mimetype": "text/x-python",
   "name": "python",
   "nbconvert_exporter": "python",
   "pygments_lexer": "ipython2",
   "version": "2.7.6"
  }
 },
 "nbformat": 4,
 "nbformat_minor": 0
}
